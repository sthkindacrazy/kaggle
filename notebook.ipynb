{
  "cells": [
    {
      "metadata": {
        "_uuid": "1fd8d672fd31f4d418e068d21033159fd93b7a1f",
        "_cell_guid": "f73b6783-ed92-4929-8274-cce9a207b02d"
      },
      "cell_type": "markdown",
      "source": "Here, I tried to focus on answering the first question.\nwhat contributes to differences in schools outcomes.\n\nSimple hypothesis on this question was ecnomic factors influences a lot to the outcomes.\nSchool Accountability and Assistance level, and percentage of economically disadvantaged is important factors\nto test such things. \n\np.s this is my very first submit of kernel to kaggle. Please give advice for further improvements. "
    },
    {
      "metadata": {
        "_uuid": "50e06d1e9d3774ca48435efc49287b8253a477e2",
        "_cell_guid": "533a7f44-1c35-427a-b0fd-d22005dac33b",
        "trusted": false,
        "collapsed": true
      },
      "cell_type": "code",
      "source": "%pylab inline\n%matplotlib inline\n#visualization result\n\nimport pandas as pd\nimport seaborn as sns",
      "execution_count": null,
      "outputs": []
    },
    {
      "metadata": {
        "_uuid": "5568a4c168779d1fce88a182138144a3af20041a",
        "_cell_guid": "69252924-090a-441e-9a30-59a19bf4ec01",
        "trusted": false,
        "collapsed": true
      },
      "cell_type": "code",
      "source": "train = pd.read_csv(\"../input/MA_Public_Schools_2017.csv\")\nprint(train.shape)\ntrain.head()",
      "execution_count": null,
      "outputs": []
    },
    {
      "metadata": {
        "_uuid": "87b7d6b39eb82bf5b0e71f572438fcd48cb56a4e",
        "_cell_guid": "516dec98-cd38-424a-83d9-61f9f143fb28"
      },
      "cell_type": "markdown",
      "source": "## Simple view"
    },
    {
      "metadata": {
        "_uuid": "d795b8b36dfae0309f161bb74078a2cd30aef6b1",
        "_cell_guid": "a813eb08-84d3-43cc-81cd-81046cb4585c",
        "trusted": false,
        "collapsed": true
      },
      "cell_type": "code",
      "source": "sns.countplot(data=train, x=\"School Type\")",
      "execution_count": null,
      "outputs": []
    },
    {
      "metadata": {
        "_uuid": "6570dcdaec3639fddbb9083a00d2f3e258578ea9",
        "_cell_guid": "09204779-0da3-42fb-8280-bb83ea4d025f",
        "trusted": false,
        "collapsed": true
      },
      "cell_type": "code",
      "source": "#increased number of level means more assistance is required\nsns.countplot(data=train, x=\"Accountability and Assistance Level\")",
      "execution_count": null,
      "outputs": []
    },
    {
      "metadata": {
        "_uuid": "a1c60161a102c217efe2861b73653f44059830af",
        "_cell_guid": "e26ef97b-7633-4db2-b755-f6fc8b896e20",
        "trusted": false,
        "collapsed": true
      },
      "cell_type": "code",
      "source": "sns.countplot(data=train, x=\"District_Accountability and Assistance Level\")",
      "execution_count": null,
      "outputs": []
    },
    {
      "metadata": {
        "_uuid": "193b4f18e76a5d89de36edf6930650583aba5762",
        "_cell_guid": "c32b5225-8ed9-4df2-8a8d-ce37302b73ef",
        "trusted": false,
        "collapsed": true
      },
      "cell_type": "code",
      "source": "# %of high needs and %of economically disadvantaged shows similar distribution\nsns.distplot(train[\"% High Needs\"], hist=False, label=\"Function\")\nsns.distplot(train[\"% Economically Disadvantaged\"], hist=False, label=\"disadvantaged\")",
      "execution_count": null,
      "outputs": []
    },
    {
      "metadata": {
        "_uuid": "3f86ae74fbb1dc9d8e815970497ac1fe161afc6a",
        "_cell_guid": "42de1eb2-9b1a-4d5a-8760-ba3b789accda"
      },
      "cell_type": "markdown",
      "source": "## Relations between ecnomical factors and student grades (including SAT scores, AP)"
    },
    {
      "metadata": {
        "_uuid": "01d84a5fb4593773d48f3e914c9ced575449f199",
        "_cell_guid": "447d36f9-f728-470a-b9aa-f6f214a3afd2",
        "trusted": false,
        "collapsed": true
      },
      "cell_type": "code",
      "source": "#Simply thought about relationship between average salaray and percentage of economically disadvantaged. \nsns.lmplot(data=train, x=\"Average Salary\", y=\"% Economically Disadvantaged\", fit_reg=False, hue=\"Accountability and Assistance Level\")\n# not quite clear. ",
      "execution_count": null,
      "outputs": []
    },
    {
      "metadata": {
        "_uuid": "c24b7b0bfb8b7e7efcc661f6c7a4906e0648b72b",
        "_cell_guid": "b97aff9e-3a0e-4123-9835-4c9720ee79d8",
        "trusted": false,
        "collapsed": true
      },
      "cell_type": "code",
      "source": "#District Names are too many not nice to be the factors for devision. \nsns.countplot(data=train, x=\"District Name\")",
      "execution_count": null,
      "outputs": []
    },
    {
      "metadata": {
        "_uuid": "a1f565fa9fb1fd044cc3f70ff248e0b094ee279a",
        "_cell_guid": "f99331d0-a20b-40f5-90e4-082cda3cfb66",
        "trusted": false,
        "collapsed": true
      },
      "cell_type": "code",
      "source": "#Here let's see plot between two factors, % economically disadvantaged and ap scores\n#Limit data sets for only high schools. AP tests are usually for high school students. \nhighschool = train[train[\"9_Enrollment\"] > 0]\n\nsns.lmplot(data=highschool, x=\"% Economically Disadvantaged\", y=\"% AP_Score 3-5\", fit_reg=False, hue=\"Accountability and Assistance Level\")\nsns.lmplot(data=highschool, x=\"% Economically Disadvantaged\", y=\"AP_Score=5\", fit_reg=False, hue=\"Accountability and Assistance Level\")",
      "execution_count": null,
      "outputs": []
    },
    {
      "metadata": {
        "_uuid": "a8ea354305da22e084e00dc229f75904121bf41d",
        "_cell_guid": "20da6c64-ad9b-4bc6-9488-c27d577b6451",
        "trusted": false,
        "collapsed": true
      },
      "cell_type": "code",
      "source": "sns.lmplot(data=highschool, x=\"% Economically Disadvantaged\", y=\"SAT_Tests Taken\", fit_reg=False, hue=\"Accountability and Assistance Level\")\nsns.lmplot(data=highschool, x=\"% Economically Disadvantaged\", y=\"Average SAT_Reading\", fit_reg=False, hue=\"Accountability and Assistance Level\")\n",
      "execution_count": null,
      "outputs": []
    },
    {
      "metadata": {
        "_uuid": "916ea951106743cf317906b5c208176516f0fbcd",
        "_cell_guid": "a3b980ca-c024-4fc7-960b-861e2f2f3d0e",
        "trusted": false,
        "collapsed": true
      },
      "cell_type": "code",
      "source": "#Graduation Rates seems drastic change between 40%-60% of Economically Disadvantaged slot. \n\nsns.lmplot(data=highschool, x=\"% Economically Disadvantaged\", y=\"% Graduated\", fit_reg=False, hue=\"Accountability and Assistance Level\")",
      "execution_count": null,
      "outputs": []
    },
    {
      "metadata": {
        "_uuid": "63450c835d007bea65523793cdfcead0f707ac71",
        "_cell_guid": "46810686-5ec2-4b77-bf85-39d508cead82",
        "trusted": false,
        "collapsed": true
      },
      "cell_type": "code",
      "source": "#Then how about college, especially private four-year which is expected to have high tuition. \nsns.lmplot(data=highschool, x=\"% Economically Disadvantaged\", y=\"% Private Four-Year\", fit_reg=False, hue=\"Accountability and Assistance Level\")\n",
      "execution_count": null,
      "outputs": []
    },
    {
      "metadata": {
        "_uuid": "ef90383f0f6e0828ffd2e063fa2417affe2266f1",
        "_cell_guid": "d76b9b49-b776-4a5d-a5a6-13043ceaed7b"
      },
      "cell_type": "markdown",
      "source": "Simple conclusion\n\nLevel 1, Level 2 schools tend to show better performance. \nEspecially in number of AP score 3-5 which is regarded to have 'good' or 'sufficient' scores in AP\nand graduation rate. \n\nTo observer such relationship, I have limited the data to high schools, to be specific. \nAnd as expected, there seems some relationship between economic states of students attending school and school outcomes"
    },
    {
      "metadata": {
        "_uuid": "ecf588d094266f92eb0aa30472cb1f02bb9ecee7",
        "collapsed": true,
        "_cell_guid": "3e0621b3-2863-489e-8532-f449b1a9c0b3",
        "trusted": false
      },
      "cell_type": "code",
      "source": "",
      "execution_count": null,
      "outputs": []
    }
  ],
  "metadata": {
    "language_info": {
      "name": "python",
      "version": "3.6.4",
      "mimetype": "text/x-python",
      "codemirror_mode": {
        "name": "ipython",
        "version": 3
      },
      "pygments_lexer": "ipython3",
      "nbconvert_exporter": "python",
      "file_extension": ".py"
    },
    "kernelspec": {
      "display_name": "Python 3",
      "language": "python",
      "name": "python3"
    }
  },
  "nbformat": 4,
  "nbformat_minor": 1
}